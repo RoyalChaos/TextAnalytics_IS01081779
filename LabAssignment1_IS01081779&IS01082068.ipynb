{
 "cells": [
  {
   "cell_type": "code",
   "execution_count": 1,
   "id": "c157778e",
   "metadata": {},
   "outputs": [],
   "source": [
    "# Group Members: Ayman Fikry bin Asmajuda & Muhammad Khairin Asnawi bin Rosli\n",
    "# Student ID: IS01081779 & IS01082068\n",
    "# Platform: Shopee\n",
    "# Product: Samsung Galaxy Z Flip 5"
   ]
  },
  {
   "cell_type": "code",
   "execution_count": 2,
   "id": "1a20574f",
   "metadata": {},
   "outputs": [],
   "source": [
    "# Import libraries\n",
    "import re \n",
    "import json \n",
    "import requests \n",
    "import csv \n",
    "from datetime import datetime "
   ]
  },
  {
   "cell_type": "code",
   "execution_count": 3,
   "id": "a9324219",
   "metadata": {},
   "outputs": [],
   "source": [
    "# URL of the product on Shopee\n",
    "product_url = 'https://shopee.com.my/Samsung-Galaxy-Z-Flip-5-8GB-256GB-8GB-512GB-Original-Malaysia-New-Set-i.54618012.14397879422'"
   ]
  },
  {
   "cell_type": "code",
   "execution_count": 4,
   "id": "2bb4ca9a",
   "metadata": {},
   "outputs": [],
   "source": [
    "# Function to extract user reviews from Shopee website\n",
    "def scrape_shopee_reviews(url):\n",
    "    \n",
    "    # Extract shop id & item id from the URL\n",
    "    r = re.search(r'i\\.(\\d+)\\.(\\d+)', url)\n",
    "    if r:\n",
    "        \n",
    "        # Insert into shop_id & item_id variables\n",
    "        shop_id, item_id = r.group(1), r.group(2) \n",
    "    else:\n",
    "        \n",
    "        # If shop id & item id not found, print and return failure\n",
    "        print(\"Invalid URL\") \n",
    "        return\n",
    "\n",
    "    # Initialize empty list to store extracted reviews\n",
    "    reviews_data = [] \n",
    "    \n",
    "    # To set start pagination\n",
    "    offset = 0 \n",
    "    \n",
    "    # Loop as long as offset is under 100, to limit 5 page as each page has 20 reviews\n",
    "    while offset < 100:  \n",
    "        \n",
    "        # Request reviews from Shopee's API\n",
    "        ratings_url = f'https://shopee.com.my/api/v2/item/get_ratings?filter=0&flag=1&itemid={item_id}&limit=20&offset={offset}&shopid={shop_id}&type=0'\n",
    "        \n",
    "        # Get the response data in JSON format\n",
    "        data = requests.get(ratings_url).json()\n",
    "\n",
    "        # To loop for each review\n",
    "        for rating in data['data']['ratings']:\n",
    "            \n",
    "            # Extract reviewer's name into variable\n",
    "            reviewer_name = rating['author_username']\n",
    "            \n",
    "            # Extract date as string\n",
    "            review_date_str = rating['mtime']  \n",
    "            \n",
    "            # Convert date to appropriate date format\n",
    "            review_date = datetime.utcfromtimestamp(review_date_str).strftime('%Y-%m-%d')  \n",
    "            \n",
    "            #Extract content of the comment\n",
    "            review_content = rating['comment']\n",
    "            \n",
    "            # Append all the extracted data into the reviews_data list\n",
    "            reviews_data.append([reviewer_name, review_date, review_content])\n",
    "\n",
    "        # Check and break if no more reviews in the page\n",
    "        if len(data['data']['ratings']) < 20:\n",
    "            break\n",
    "\n",
    "        # Increment offset by 20 to extract for next page\n",
    "        offset += 20\n",
    "\n",
    "    # Return the extarcted reviews_data\n",
    "    return reviews_data"
   ]
  },
  {
   "cell_type": "code",
   "execution_count": 5,
   "id": "90fabd2d",
   "metadata": {},
   "outputs": [],
   "source": [
    "# Function to save reviews data into CSV file\n",
    "def save_to_csv(reviews_data, filename):\n",
    "    \n",
    "    # Open the CSV file and automatically close when all codes inside are executed\n",
    "    with open(filename, 'w', newline='', encoding='utf-8') as file:\n",
    "        \n",
    "        # Initialize writer object\n",
    "        writer = csv.writer(file)\n",
    "        \n",
    "        # Insert the headers inside the CSV file\n",
    "        writer.writerow([\"Reviewer Name\", \"Review Date\", \"Review Content\"])\n",
    "        \n",
    "        # Insert the extracted reviews_data inisde the CSV file\n",
    "        writer.writerows(reviews_data)\n",
    "        \n",
    "    # Print statement when data is saved\n",
    "    print(f\"Data saved to {filename}\")\n",
    "   "
   ]
  },
  {
   "cell_type": "code",
   "execution_count": 6,
   "id": "733bf9c3",
   "metadata": {},
   "outputs": [],
   "source": [
    "# Scrape reviews from the product URL\n",
    "reviews = scrape_shopee_reviews(product_url)"
   ]
  },
  {
   "cell_type": "code",
   "execution_count": 7,
   "id": "a28494bd",
   "metadata": {},
   "outputs": [
    {
     "name": "stdout",
     "output_type": "stream",
     "text": [
      "Data saved to Shopee_Product_Reviews.csv\n"
     ]
    }
   ],
   "source": [
    "if reviews:\n",
    "    \n",
    "    # Call the save_to_csv function to save the extracted review data\n",
    "    save_to_csv(reviews, 'Shopee_Product_Reviews.csv')\n",
    "    \n",
    "else: \n",
    "    # Print statement when data extraction process failed\n",
    "    print(\"Failure to save data!\")\n",
    "    "
   ]
  }
 ],
 "metadata": {
  "kernelspec": {
   "display_name": "Python 3 (ipykernel)",
   "language": "python",
   "name": "python3"
  },
  "language_info": {
   "codemirror_mode": {
    "name": "ipython",
    "version": 3
   },
   "file_extension": ".py",
   "mimetype": "text/x-python",
   "name": "python",
   "nbconvert_exporter": "python",
   "pygments_lexer": "ipython3",
   "version": "3.11.5"
  }
 },
 "nbformat": 4,
 "nbformat_minor": 5
}
