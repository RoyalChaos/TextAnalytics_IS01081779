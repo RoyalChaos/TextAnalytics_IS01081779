{
 "cells": [
  {
   "cell_type": "code",
   "execution_count": 1,
   "id": "aa8fa49a",
   "metadata": {},
   "outputs": [],
   "source": [
    "my_file = open('test.txt') "
   ]
  },
  {
   "cell_type": "code",
   "execution_count": 2,
   "id": "8f1538a9",
   "metadata": {},
   "outputs": [
    {
     "data": {
      "text/plain": [
       "'Hello, this is a quick test file. \\nThis is the second line of the file. '"
      ]
     },
     "execution_count": 2,
     "metadata": {},
     "output_type": "execute_result"
    }
   ],
   "source": [
    "my_file.read() "
   ]
  },
  {
   "cell_type": "code",
   "execution_count": 3,
   "id": "5e42359c",
   "metadata": {},
   "outputs": [
    {
     "data": {
      "text/plain": [
       "''"
      ]
     },
     "execution_count": 3,
     "metadata": {},
     "output_type": "execute_result"
    }
   ],
   "source": [
    "my_file.read() "
   ]
  },
  {
   "cell_type": "code",
   "execution_count": 4,
   "id": "a75236fa",
   "metadata": {},
   "outputs": [
    {
     "data": {
      "text/plain": [
       "0"
      ]
     },
     "execution_count": 4,
     "metadata": {},
     "output_type": "execute_result"
    }
   ],
   "source": [
    "my_file.seek(0) "
   ]
  },
  {
   "cell_type": "code",
   "execution_count": 5,
   "id": "afc04c90",
   "metadata": {},
   "outputs": [
    {
     "data": {
      "text/plain": [
       "'Hello, this is a quick test file. \\nThis is the second line of the file. '"
      ]
     },
     "execution_count": 5,
     "metadata": {},
     "output_type": "execute_result"
    }
   ],
   "source": [
    "my_file.read() "
   ]
  },
  {
   "cell_type": "code",
   "execution_count": 6,
   "id": "38e8b1f3",
   "metadata": {},
   "outputs": [
    {
     "data": {
      "text/plain": [
       "['Hello, this is a quick test file. \\n',\n",
       " 'This is the second line of the file. ']"
      ]
     },
     "execution_count": 6,
     "metadata": {},
     "output_type": "execute_result"
    }
   ],
   "source": [
    "my_file.seek(0) \n",
    "my_file.readlines() "
   ]
  },
  {
   "cell_type": "code",
   "execution_count": 7,
   "id": "d737aea7",
   "metadata": {},
   "outputs": [],
   "source": [
    "my_file.close() "
   ]
  },
  {
   "cell_type": "code",
   "execution_count": 8,
   "id": "83ff7c50",
   "metadata": {},
   "outputs": [],
   "source": [
    "my_file = open('test.txt','w+') "
   ]
  },
  {
   "cell_type": "code",
   "execution_count": 9,
   "id": "f16287d6",
   "metadata": {},
   "outputs": [
    {
     "data": {
      "text/plain": [
       "24"
      ]
     },
     "execution_count": 9,
     "metadata": {},
     "output_type": "execute_result"
    }
   ],
   "source": [
    "my_file.write('This is a new first line') "
   ]
  },
  {
   "cell_type": "code",
   "execution_count": 10,
   "id": "748a3000",
   "metadata": {},
   "outputs": [
    {
     "data": {
      "text/plain": [
       "'This is a new first line'"
      ]
     },
     "execution_count": 10,
     "metadata": {},
     "output_type": "execute_result"
    }
   ],
   "source": [
    "my_file.seek(0) \n",
    "my_file.read() "
   ]
  },
  {
   "cell_type": "code",
   "execution_count": 11,
   "id": "0f39fb28",
   "metadata": {},
   "outputs": [],
   "source": [
    "my_file.close() "
   ]
  },
  {
   "cell_type": "code",
   "execution_count": 12,
   "id": "f8324f18",
   "metadata": {},
   "outputs": [
    {
     "data": {
      "text/plain": [
       "23"
      ]
     },
     "execution_count": 12,
     "metadata": {},
     "output_type": "execute_result"
    }
   ],
   "source": [
    "my_file = open('test.txt','a+') \n",
    "my_file.write('\\nThis line is being appended to test.txt') \n",
    "my_file.write('\\nAnd another line here.') "
   ]
  },
  {
   "cell_type": "code",
   "execution_count": 13,
   "id": "803d5bf9",
   "metadata": {},
   "outputs": [
    {
     "name": "stdout",
     "output_type": "stream",
     "text": [
      "This is a new first line\n",
      "This line is being appended to test.txt\n",
      "And another line here.\n"
     ]
    }
   ],
   "source": [
    "my_file.seek(0) \n",
    "print(my_file.read()) "
   ]
  },
  {
   "cell_type": "code",
   "execution_count": 14,
   "id": "b6125159",
   "metadata": {},
   "outputs": [
    {
     "data": {
      "text/plain": [
       "'This is a new first line\\nThis line is being appended to test.txt\\nAnd another line here.'"
      ]
     },
     "execution_count": 14,
     "metadata": {},
     "output_type": "execute_result"
    }
   ],
   "source": [
    "my_file.seek(0) \n",
    "my_file.read()"
   ]
  },
  {
   "cell_type": "code",
   "execution_count": 15,
   "id": "03688de1",
   "metadata": {},
   "outputs": [],
   "source": [
    "my_file.close() "
   ]
  },
  {
   "cell_type": "code",
   "execution_count": 17,
   "id": "bd29b2d4",
   "metadata": {},
   "outputs": [
    {
     "name": "stdout",
     "output_type": "stream",
     "text": [
      "This is a new first line\n",
      "This line is being appended to test.txt\n",
      "And another line here."
     ]
    }
   ],
   "source": [
    "with open('test.txt','r') as txt: \n",
    "    for line in txt: \n",
    "        print(line, end='') "
   ]
  },
  {
   "cell_type": "code",
   "execution_count": null,
   "id": "edd2df0c",
   "metadata": {},
   "outputs": [],
   "source": []
  }
 ],
 "metadata": {
  "kernelspec": {
   "display_name": "Python 3 (ipykernel)",
   "language": "python",
   "name": "python3"
  },
  "language_info": {
   "codemirror_mode": {
    "name": "ipython",
    "version": 3
   },
   "file_extension": ".py",
   "mimetype": "text/x-python",
   "name": "python",
   "nbconvert_exporter": "python",
   "pygments_lexer": "ipython3",
   "version": "3.11.5"
  }
 },
 "nbformat": 4,
 "nbformat_minor": 5
}
