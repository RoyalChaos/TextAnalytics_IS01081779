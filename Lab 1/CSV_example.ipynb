{
 "cells": [
  {
   "cell_type": "code",
   "execution_count": 1,
   "id": "1580e9ec",
   "metadata": {},
   "outputs": [],
   "source": [
    "import csv"
   ]
  },
  {
   "cell_type": "code",
   "execution_count": 2,
   "id": "0692949e",
   "metadata": {},
   "outputs": [],
   "source": [
    "# Define the CSV file name \n",
    "csv_file = 'sample_data.csv' "
   ]
  },
  {
   "cell_type": "code",
   "execution_count": 3,
   "id": "3276f5d7",
   "metadata": {},
   "outputs": [],
   "source": [
    "# Define the output text file name \n",
    "output_file = 'comments.txt' "
   ]
  },
  {
   "cell_type": "code",
   "execution_count": 19,
   "id": "b4ff80d5",
   "metadata": {},
   "outputs": [],
   "source": [
    "with open(csv_file, 'r', newline='') as csvfile: \n",
    "    # Create a CSV reader object \n",
    "    reader = csv.DictReader(csvfile) \n",
    "     \n",
    "    # Initialize a list to store the comments \n",
    "    comments = [] \n",
    "     \n",
    "    # Iterate over each row in the CSV file \n",
    "    for row in reader: \n",
    "         \n",
    "        comments.append(row['comments']) \n",
    " \n",
    "# Open the output text file for writing \n",
    "with open(output_file, 'w') as txtfile: \n",
    "    # Write each comment to the text file \n",
    "    for comment in comments: \n",
    "        txtfile.write(comment + '\\n') "
   ]
  },
  {
   "cell_type": "code",
   "execution_count": 20,
   "id": "e39e405f",
   "metadata": {},
   "outputs": [
    {
     "name": "stdout",
     "output_type": "stream",
     "text": [
      "Comments extracted and saved to comments.txt\n"
     ]
    }
   ],
   "source": [
    "print(\"Comments extracted and saved to\", output_file) "
   ]
  }
 ],
 "metadata": {
  "kernelspec": {
   "display_name": "Python 3 (ipykernel)",
   "language": "python",
   "name": "python3"
  },
  "language_info": {
   "codemirror_mode": {
    "name": "ipython",
    "version": 3
   },
   "file_extension": ".py",
   "mimetype": "text/x-python",
   "name": "python",
   "nbconvert_exporter": "python",
   "pygments_lexer": "ipython3",
   "version": "3.11.5"
  }
 },
 "nbformat": 4,
 "nbformat_minor": 5
}
